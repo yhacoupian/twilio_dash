{
 "cells": [
  {
   "cell_type": "markdown",
   "id": "3001de17",
   "metadata": {},
   "source": [
    "## Twilio sms Sample "
   ]
  },
  {
   "cell_type": "markdown",
   "id": "deaaba74",
   "metadata": {},
   "source": [
    "* Sign up for a trial account at\n",
    "\n",
    ">```https://www.twilio.com/try-twilio```\n",
    "\n",
    "* Please install the twilio package in your conda environment by running the following command in the terminal\n",
    "\n",
    ">``` pip install twilio ```\n",
    "\n",
    "* Add the twilio API key parameters to your .env file\n",
    "\n",
    ">```TWILIO_ACCOUNT_SID = \"your-account-sid-goes-here\"```\n",
    ">```TWILIO_AUTH_TOKEN = \"your-auth-token-goes-here\"```\n"
   ]
  },
  {
   "cell_type": "code",
   "execution_count": 1,
   "id": "e000c856",
   "metadata": {},
   "outputs": [],
   "source": [
    "import os\n",
    "from dotenv import load_dotenv\n",
    "from twilio.rest import Client"
   ]
  },
  {
   "cell_type": "code",
   "execution_count": 2,
   "id": "30a96ef3",
   "metadata": {},
   "outputs": [
    {
     "data": {
      "text/plain": [
       "True"
      ]
     },
     "execution_count": 2,
     "metadata": {},
     "output_type": "execute_result"
    }
   ],
   "source": [
    "# Load .env environment variables\n",
    "# Note: Replace below file name with your .env file name\n",
    "load_dotenv(\"YH.env\")"
   ]
  },
  {
   "cell_type": "code",
   "execution_count": 3,
   "id": "b3eac24f",
   "metadata": {},
   "outputs": [],
   "source": [
    "# Read the API keys from the .env file\n",
    "TWILIO_ACCOUNT_SID = os.getenv(\"TWILIO_ACCOUNT_SID\") \n",
    "TWILIO_AUTH_TOKEN = os.getenv(\"TWILIO_AUTH_TOKEN\")\n",
    "\n",
    "# Create the api object\n",
    "twilio_api = Client(TWILIO_ACCOUNT_SID, TWILIO_AUTH_TOKEN)\n",
    "\n",
    "# This is a function that \n",
    "# calls the message stream object in twilio\n",
    "def fetch_sms():\n",
    "    return twilio_api.messages.stream()"
   ]
  },
  {
   "cell_type": "markdown",
   "id": "2761557e",
   "metadata": {},
   "source": [
    "***Make sure that you send an sms message to \n",
    "the phone number in twilio first before running this code***\n",
    "\n",
    "Otherwise you may receive this error:\n",
    "<img src=\"err_msg.png\" style=\"width:800px;\"/>\n",
    "  *  *  *  *  *"
   ]
  },
  {
   "cell_type": "code",
   "execution_count": 7,
   "id": "7aa87dc7",
   "metadata": {},
   "outputs": [
    {
     "data": {
      "text/plain": [
       "<generator object Version.stream at 0x7fe691db0900>"
      ]
     },
     "execution_count": 7,
     "metadata": {},
     "output_type": "execute_result"
    }
   ],
   "source": [
    "# run the function above and capture the returned object\n",
    "sms = fetch_sms()\n",
    "sms"
   ]
  },
  {
   "cell_type": "code",
   "execution_count": 8,
   "id": "953130b2",
   "metadata": {},
   "outputs": [],
   "source": [
    "# read in the sms object in the queue \n",
    "sms_obj = next(sms)"
   ]
  },
  {
   "cell_type": "code",
   "execution_count": 9,
   "id": "a3bd9360",
   "metadata": {},
   "outputs": [
    {
     "data": {
      "text/plain": [
       "\"Sent from your Twilio trial account - Thanks for the message. Configure your number's SMS URL to change this message.Reply HELP for help.Reply STOP to unsubscribe.Msg&Data rates may apply.\""
      ]
     },
     "execution_count": 9,
     "metadata": {},
     "output_type": "execute_result"
    }
   ],
   "source": [
    "# Display the body of the message \n",
    "sms_obj.body"
   ]
  },
  {
   "cell_type": "code",
   "execution_count": null,
   "id": "6b94cafc",
   "metadata": {},
   "outputs": [],
   "source": []
  }
 ],
 "metadata": {
  "kernelspec": {
   "display_name": "Python 3",
   "language": "python",
   "name": "python3"
  },
  "language_info": {
   "codemirror_mode": {
    "name": "ipython",
    "version": 3
   },
   "file_extension": ".py",
   "mimetype": "text/x-python",
   "name": "python",
   "nbconvert_exporter": "python",
   "pygments_lexer": "ipython3",
   "version": "3.8.5"
  }
 },
 "nbformat": 4,
 "nbformat_minor": 5
}
